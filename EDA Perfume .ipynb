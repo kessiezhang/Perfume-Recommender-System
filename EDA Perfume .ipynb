{
 "cells": [
  {
   "cell_type": "code",
   "execution_count": 558,
   "metadata": {},
   "outputs": [],
   "source": [
    "import csv\n",
    "import re\n",
    "import time\n",
    "import nltk\n",
    "import string\n",
    "import pickle\n",
    "import pyLDAvis\n",
    "import numpy as np\n",
    "import pandas as pd\n",
    "from itertools import chain\n",
    "from nltk.stem import WordNetLemmatizer \n",
    "from nltk.tokenize import RegexpTokenizer"
   ]
  },
  {
   "cell_type": "code",
   "execution_count": 559,
   "metadata": {
    "scrolled": false
   },
   "outputs": [],
   "source": [
    "#merge dictionaries, only once you have all the data\n",
    "#because product_dict is defined above as something else\n",
    "#here I merged 3 dictionaries together to make combined\n",
    "\n",
    "product_dict_1 = pickle.load(open('product_dict_374.pkl', 'rb'))\n",
    "product_dict_2 = pickle.load(open('product_dict_2000.pkl', 'rb'))\n",
    "product_dict_3 = pickle.load(open('product_dict_3000.pkl', 'rb'))\n",
    "\n",
    "combined = {}\n",
    "product_dict_list = [product_dict_1, product_dict_2, product_dict_3]\n",
    "\n",
    "for product_dict in product_dict_list:\n",
    "    combined.update(product_dict) "
   ]
  },
  {
   "cell_type": "code",
   "execution_count": 560,
   "metadata": {},
   "outputs": [],
   "source": [
    "product_names = []\n",
    "brand_names = []\n",
    "description = []\n",
    "rating = []\n",
    "review_count=[]\n",
    "for key, value in combined.items():\n",
    "    product_names.append(key)\n",
    "    brand_names.append(value['brand_name'])\n",
    "    description.append(value['description'])\n",
    "    rating.append(value['rating'])\n",
    "    review_count.append(value['review_count'])"
   ]
  },
  {
   "cell_type": "code",
   "execution_count": 561,
   "metadata": {},
   "outputs": [],
   "source": [
    "df = pd.DataFrame({'product_names':product_names})\n",
    "df['brand_names'] = brand_names\n",
    "df['description'] = description\n",
    "df['rating'] = rating\n",
    "df['review_count'] = review_count"
   ]
  },
  {
   "cell_type": "code",
   "execution_count": 562,
   "metadata": {
    "scrolled": true
   },
   "outputs": [
    {
     "data": {
      "text/plain": [
       "2376"
      ]
     },
     "execution_count": 562,
     "metadata": {},
     "output_type": "execute_result"
    }
   ],
   "source": [
    "len(df)"
   ]
  },
  {
   "cell_type": "code",
   "execution_count": 563,
   "metadata": {},
   "outputs": [
    {
     "data": {
      "text/plain": [
       "0.0    865\n",
       "5.0    415\n",
       "4.7    210\n",
       "4.5    143\n",
       "4.0    140\n",
       "4.6    123\n",
       "4.8    121\n",
       "4.4     66\n",
       "4.3     52\n",
       "4.9     31\n",
       "3.0     29\n",
       "4.2     28\n",
       "4.1     15\n",
       "3.5     15\n",
       "3.8     14\n",
       "2.0     14\n",
       "3.7     13\n",
       "1.0     11\n",
       "3.9      8\n",
       "3.3      7\n",
       "3.6      4\n",
       "2.3      2\n",
       "2.5      2\n",
       "3.4      2\n",
       "3.2      1\n",
       "2.7      1\n",
       "Name: rating, dtype: int64"
      ]
     },
     "execution_count": 563,
     "metadata": {},
     "output_type": "execute_result"
    }
   ],
   "source": [
    "df.rating.value_counts()"
   ]
  },
  {
   "cell_type": "code",
   "execution_count": 564,
   "metadata": {},
   "outputs": [
    {
     "data": {
      "text/plain": [
       "product_names      0\n",
       "brand_names        0\n",
       "description        0\n",
       "rating            44\n",
       "review_count     886\n",
       "dtype: int64"
      ]
     },
     "execution_count": 564,
     "metadata": {},
     "output_type": "execute_result"
    }
   ],
   "source": [
    "df.isnull().sum()"
   ]
  },
  {
   "cell_type": "code",
   "execution_count": 565,
   "metadata": {},
   "outputs": [],
   "source": [
    "df=df[df.rating > 4.0]"
   ]
  },
  {
   "cell_type": "code",
   "execution_count": 566,
   "metadata": {},
   "outputs": [
    {
     "data": {
      "text/plain": [
       "1204"
      ]
     },
     "execution_count": 566,
     "metadata": {},
     "output_type": "execute_result"
    }
   ],
   "source": [
    "len(df)"
   ]
  },
  {
   "cell_type": "code",
   "execution_count": 567,
   "metadata": {},
   "outputs": [],
   "source": [
    "with open('perfume_product.pkl', 'wb') as f:\n",
    "    pickle.dump(df, f)"
   ]
  },
  {
   "cell_type": "code",
   "execution_count": 568,
   "metadata": {},
   "outputs": [],
   "source": [
    "df_copy=df.copy()"
   ]
  },
  {
   "cell_type": "code",
   "execution_count": 569,
   "metadata": {
    "scrolled": true
   },
   "outputs": [
    {
     "data": {
      "text/html": [
       "<div>\n",
       "<style scoped>\n",
       "    .dataframe tbody tr th:only-of-type {\n",
       "        vertical-align: middle;\n",
       "    }\n",
       "\n",
       "    .dataframe tbody tr th {\n",
       "        vertical-align: top;\n",
       "    }\n",
       "\n",
       "    .dataframe thead th {\n",
       "        text-align: right;\n",
       "    }\n",
       "</style>\n",
       "<table border=\"1\" class=\"dataframe\">\n",
       "  <thead>\n",
       "    <tr style=\"text-align: right;\">\n",
       "      <th></th>\n",
       "      <th>name</th>\n",
       "      <th>description</th>\n",
       "      <th>rating</th>\n",
       "      <th>review_count</th>\n",
       "    </tr>\n",
       "  </thead>\n",
       "  <tbody>\n",
       "    <tr>\n",
       "      <th>0</th>\n",
       "      <td>Eternity - Calvin Klein</td>\n",
       "      <td>Eternity Perfume by Calvin Klein, Escape into ...</td>\n",
       "      <td>4.7</td>\n",
       "      <td>849.0</td>\n",
       "    </tr>\n",
       "    <tr>\n",
       "      <th>1</th>\n",
       "      <td>Light Blue - Dolce &amp; Gabbana</td>\n",
       "      <td>Light Blue Perfume by Dolce &amp; Gabbana, Light B...</td>\n",
       "      <td>4.7</td>\n",
       "      <td>1208.0</td>\n",
       "    </tr>\n",
       "    <tr>\n",
       "      <th>2</th>\n",
       "      <td>Angel - Thierry Mugler</td>\n",
       "      <td>Angel Perfume by Thierry Mugler, Created in 19...</td>\n",
       "      <td>4.6</td>\n",
       "      <td>1057.0</td>\n",
       "    </tr>\n",
       "    <tr>\n",
       "      <th>3</th>\n",
       "      <td>Euphoria - Calvin Klein</td>\n",
       "      <td>Euphoria Perfume by Calvin Klein, Euphoria, la...</td>\n",
       "      <td>4.7</td>\n",
       "      <td>1179.0</td>\n",
       "    </tr>\n",
       "    <tr>\n",
       "      <th>4</th>\n",
       "      <td>Obsession - Calvin Klein</td>\n",
       "      <td>Obsession Perfume by Calvin Klein, Obsession i...</td>\n",
       "      <td>4.7</td>\n",
       "      <td>652.0</td>\n",
       "    </tr>\n",
       "  </tbody>\n",
       "</table>\n",
       "</div>"
      ],
      "text/plain": [
       "                           name  \\\n",
       "0       Eternity - Calvin Klein   \n",
       "1  Light Blue - Dolce & Gabbana   \n",
       "2        Angel - Thierry Mugler   \n",
       "3       Euphoria - Calvin Klein   \n",
       "4      Obsession - Calvin Klein   \n",
       "\n",
       "                                         description  rating  review_count  \n",
       "0  Eternity Perfume by Calvin Klein, Escape into ...     4.7         849.0  \n",
       "1  Light Blue Perfume by Dolce & Gabbana, Light B...     4.7        1208.0  \n",
       "2  Angel Perfume by Thierry Mugler, Created in 19...     4.6        1057.0  \n",
       "3  Euphoria Perfume by Calvin Klein, Euphoria, la...     4.7        1179.0  \n",
       "4  Obsession Perfume by Calvin Klein, Obsession i...     4.7         652.0  "
      ]
     },
     "execution_count": 569,
     "metadata": {},
     "output_type": "execute_result"
    }
   ],
   "source": [
    "df_copy['name'] = df_copy['product_names'].str.cat(df['brand_names'], sep=' - ')\n",
    "df_copy=df_copy.drop(['product_names','brand_names'],axis=1)\n",
    "df_copy = df_copy[['name','description','rating','review_count']]\n",
    "df_copy.head()"
   ]
  },
  {
   "cell_type": "code",
   "execution_count": 570,
   "metadata": {},
   "outputs": [],
   "source": [
    "with open('df.pkl', 'wb') as f:\n",
    "    pickle.dump(df_copy, f)"
   ]
  },
  {
   "cell_type": "code",
   "execution_count": 571,
   "metadata": {},
   "outputs": [
    {
     "data": {
      "text/plain": [
       "0         Eternity - Calvin Klein\n",
       "1    Light Blue - Dolce & Gabbana\n",
       "2          Angel - Thierry Mugler\n",
       "3         Euphoria - Calvin Klein\n",
       "4        Obsession - Calvin Klein\n",
       "Name: name, dtype: object"
      ]
     },
     "execution_count": 571,
     "metadata": {},
     "output_type": "execute_result"
    }
   ],
   "source": [
    "indices = pd.Series(df_copy.name)\n",
    "indices[:5]"
   ]
  },
  {
   "cell_type": "code",
   "execution_count": 572,
   "metadata": {},
   "outputs": [
    {
     "data": {
      "text/html": [
       "<div>\n",
       "<style scoped>\n",
       "    .dataframe tbody tr th:only-of-type {\n",
       "        vertical-align: middle;\n",
       "    }\n",
       "\n",
       "    .dataframe tbody tr th {\n",
       "        vertical-align: top;\n",
       "    }\n",
       "\n",
       "    .dataframe thead th {\n",
       "        text-align: right;\n",
       "    }\n",
       "</style>\n",
       "<table border=\"1\" class=\"dataframe\">\n",
       "  <thead>\n",
       "    <tr style=\"text-align: right;\">\n",
       "      <th></th>\n",
       "      <th>name</th>\n",
       "      <th>description</th>\n",
       "      <th>rating</th>\n",
       "      <th>review_count</th>\n",
       "    </tr>\n",
       "  </thead>\n",
       "  <tbody>\n",
       "    <tr>\n",
       "      <th>0</th>\n",
       "      <td>Eternity - Calvin Klein</td>\n",
       "      <td>Eternity Perfume by Calvin Klein, Escape into ...</td>\n",
       "      <td>4.7</td>\n",
       "      <td>849.0</td>\n",
       "    </tr>\n",
       "    <tr>\n",
       "      <th>1</th>\n",
       "      <td>Light Blue - Dolce &amp; Gabbana</td>\n",
       "      <td>Light Blue Perfume by Dolce &amp; Gabbana, Light B...</td>\n",
       "      <td>4.7</td>\n",
       "      <td>1208.0</td>\n",
       "    </tr>\n",
       "    <tr>\n",
       "      <th>2</th>\n",
       "      <td>Angel - Thierry Mugler</td>\n",
       "      <td>Angel Perfume by Thierry Mugler, Created in 19...</td>\n",
       "      <td>4.6</td>\n",
       "      <td>1057.0</td>\n",
       "    </tr>\n",
       "    <tr>\n",
       "      <th>3</th>\n",
       "      <td>Euphoria - Calvin Klein</td>\n",
       "      <td>Euphoria Perfume by Calvin Klein, Euphoria, la...</td>\n",
       "      <td>4.7</td>\n",
       "      <td>1179.0</td>\n",
       "    </tr>\n",
       "    <tr>\n",
       "      <th>4</th>\n",
       "      <td>Obsession - Calvin Klein</td>\n",
       "      <td>Obsession Perfume by Calvin Klein, Obsession i...</td>\n",
       "      <td>4.7</td>\n",
       "      <td>652.0</td>\n",
       "    </tr>\n",
       "  </tbody>\n",
       "</table>\n",
       "</div>"
      ],
      "text/plain": [
       "                           name  \\\n",
       "0       Eternity - Calvin Klein   \n",
       "1  Light Blue - Dolce & Gabbana   \n",
       "2        Angel - Thierry Mugler   \n",
       "3       Euphoria - Calvin Klein   \n",
       "4      Obsession - Calvin Klein   \n",
       "\n",
       "                                         description  rating  review_count  \n",
       "0  Eternity Perfume by Calvin Klein, Escape into ...     4.7         849.0  \n",
       "1  Light Blue Perfume by Dolce & Gabbana, Light B...     4.7        1208.0  \n",
       "2  Angel Perfume by Thierry Mugler, Created in 19...     4.6        1057.0  \n",
       "3  Euphoria Perfume by Calvin Klein, Euphoria, la...     4.7        1179.0  \n",
       "4  Obsession Perfume by Calvin Klein, Obsession i...     4.7         652.0  "
      ]
     },
     "execution_count": 572,
     "metadata": {},
     "output_type": "execute_result"
    }
   ],
   "source": [
    "df_copy.head()"
   ]
  },
  {
   "cell_type": "markdown",
   "metadata": {},
   "source": [
    "## Text Pre-processing"
   ]
  },
  {
   "cell_type": "code",
   "execution_count": 573,
   "metadata": {},
   "outputs": [],
   "source": [
    "#tokenize\n",
    "tokenizer = RegexpTokenizer(r'\\w+')"
   ]
  },
  {
   "cell_type": "code",
   "execution_count": 574,
   "metadata": {},
   "outputs": [],
   "source": [
    "def remove_punctuation(text):\n",
    "    #tokenizer breaks string into a list of words\n",
    "    tokenizer = RegexpTokenizer(r'\\w+')\n",
    "    text = tokenizer.tokenize(text)\n",
    "    text = \" \".join([c for c in text if c not in string.punctuation])\n",
    "    return text"
   ]
  },
  {
   "cell_type": "code",
   "execution_count": 575,
   "metadata": {},
   "outputs": [],
   "source": [
    "def make_lower_case(text):\n",
    "    text = text.lower()\n",
    "    return text  "
   ]
  },
  {
   "cell_type": "code",
   "execution_count": 576,
   "metadata": {},
   "outputs": [],
   "source": [
    "df.brand_names=df.brand_names.apply(lambda x: remove_punctuation(x))\n",
    "df.brand_names=df.brand_names.apply(lambda x: make_lower_case(x))\n",
    "df.product_names=df.product_names.apply(lambda x: remove_punctuation(x))\n",
    "df.product_names=df.product_names.apply(lambda x: make_lower_case(x))\n",
    "df_copy.description=df_copy['description'].apply(lambda x: remove_punctuation(x))\n",
    "df_copy.description=df_copy['description'].apply(lambda x: make_lower_case(x))"
   ]
  },
  {
   "cell_type": "code",
   "execution_count": 577,
   "metadata": {
    "scrolled": true
   },
   "outputs": [],
   "source": [
    "brand_list=[]\n",
    "for i in df.brand_names:\n",
    "    brand_word=tokenizer.tokenize(i)\n",
    "    brand_list.append(brand_word)\n",
    "    \n",
    "\n",
    "product_list=[]\n",
    "for i in df.product_names:\n",
    "    product_word=tokenizer.tokenize(i)\n",
    "    product_list.append(product_word)"
   ]
  },
  {
   "cell_type": "code",
   "execution_count": null,
   "metadata": {},
   "outputs": [],
   "source": []
  },
  {
   "cell_type": "code",
   "execution_count": 578,
   "metadata": {},
   "outputs": [],
   "source": [
    "stopwords = nltk.corpus.stopwords.words('english')\n",
    "new_stopword=['perfume','cosmetic','skincare','famous', 'green','many','italian','base','sensual','black','red','new',\n",
    "              'top','launched','designed','american','french','secret','main','moderate','true','wear',\n",
    "             'united','beautiful','unique','numerous','aromatic','open','scent','bottle','middle','note']\n",
    "\n",
    "stopwords.extend(set(list(chain(*brand_list))))\n",
    "stopwords.extend(set(list(chain(*product_list))))\n",
    "stopwords.extend(new_stopword)"
   ]
  },
  {
   "cell_type": "code",
   "execution_count": 579,
   "metadata": {
    "scrolled": true
   },
   "outputs": [],
   "source": [
    "def remove_stop_words(text):\n",
    "    text = tokenizer.tokenize(text)\n",
    "    text = [w for w in text if not w in stopwords]\n",
    "    text = \" \".join(text)\n",
    "    return text  "
   ]
  },
  {
   "cell_type": "code",
   "execution_count": 580,
   "metadata": {},
   "outputs": [],
   "source": [
    "def lemma_words(text):\n",
    "    text = text.split()\n",
    "    lemmatizer = WordNetLemmatizer()\n",
    "    lemma_words = [lemmatizer.lemmatize(word) for word in text]\n",
    "    text = \" \".join(lemma_words)\n",
    "    return text"
   ]
  },
  {
   "cell_type": "code",
   "execution_count": 581,
   "metadata": {},
   "outputs": [],
   "source": [
    "#remove numbers and extra white space\n",
    "def remove_num(text):\n",
    "    text = re.sub(r'\\d+','', text)\n",
    "    text =\" \".join(text.split())\n",
    "    return text"
   ]
  },
  {
   "cell_type": "code",
   "execution_count": 582,
   "metadata": {},
   "outputs": [],
   "source": [
    "def remove_sentence(text):\n",
    "    text=text.replace(' all products are original authentic name brands we do not sell knockoffs or imitations','')\n",
    "    return text"
   ]
  },
  {
   "cell_type": "code",
   "execution_count": 583,
   "metadata": {},
   "outputs": [
    {
     "data": {
      "text/plain": [
       "'eternity perfume by calvin klein escape into the eternal bliss of the luscious eternity a delectable women s fragrance by calvin klein this majestic perfume combines floral green and aromatic accords for a tantalizing scent that will keep you feeling refreshed and exhilarated for hours after splashing it on your skin top notes of sweet mandarin orange freesia sage and a variety of citrus and green elements introduce the aroma with a powerfully zesty and energetic atmosphere that awakensthe senses middle notes of marigold lily of the valley narcissus jasmine rose violet carnation and lily infuse the elixir with a decadent floral bouquet you can t possibly ignore finally base notes of purple heliotrope patchouli golden amber sandalwood and white musk complete the fragrance for a seductive enchanting perfume you ll relish in sharing with everyone around you created by expert perfumer sophia grojsman this 1988 signature scent was launched by the illustrious american fashion designer calvin klein inspired by his own marriage this innovative artist desired to make a fragrance that encompassed family peace and love in a single bottle all products are original authentic name brands we do not sell knockoffs or imitations'"
      ]
     },
     "execution_count": 583,
     "metadata": {},
     "output_type": "execute_result"
    }
   ],
   "source": [
    "df_copy.description[0]"
   ]
  },
  {
   "cell_type": "code",
   "execution_count": 584,
   "metadata": {},
   "outputs": [],
   "source": [
    "df_copy.description=df_copy['description'].apply(lambda x: remove_sentence(x))"
   ]
  },
  {
   "cell_type": "code",
   "execution_count": 585,
   "metadata": {},
   "outputs": [],
   "source": [
    "df_copy.description=df_copy['description'].apply(lambda x: remove_stop_words(x))"
   ]
  },
  {
   "cell_type": "code",
   "execution_count": 586,
   "metadata": {},
   "outputs": [],
   "source": [
    "df_copy.description=df_copy['description'].apply(lambda x: lemma_words(x))"
   ]
  },
  {
   "cell_type": "code",
   "execution_count": 587,
   "metadata": {},
   "outputs": [],
   "source": [
    "#remove_num\n",
    "df_copy.description=df_copy['description'].apply(lambda x: remove_num(x))"
   ]
  },
  {
   "cell_type": "code",
   "execution_count": 588,
   "metadata": {},
   "outputs": [],
   "source": [
    "def kepp_adj(text):\n",
    "    words=nltk.word_tokenize(text)\n",
    "    pos=nltk.pos_tag(words)                        \n",
    "    jj_tagged = [word for word, tag in pos \n",
    "                if tag.startswith('JJ')]\n",
    "    jj_tagged=[word for word,pos in pos if (pos == 'JJ')]\n",
    "    text=\" \".join(jj_tagged)\n",
    "    return text"
   ]
  },
  {
   "cell_type": "code",
   "execution_count": 589,
   "metadata": {},
   "outputs": [],
   "source": [
    "df_copy.description=df_copy['description'].apply(lambda x: kepp_adj(x))"
   ]
  },
  {
   "cell_type": "code",
   "execution_count": 590,
   "metadata": {},
   "outputs": [],
   "source": [
    "df_copy.description=df_copy['description'].apply(lambda x: remove_stop_words(x))"
   ]
  },
  {
   "cell_type": "code",
   "execution_count": 591,
   "metadata": {},
   "outputs": [],
   "source": [
    "with open('df_description.pkl', 'wb') as f:\n",
    "    pickle.dump(df_copy.description, f)"
   ]
  },
  {
   "cell_type": "code",
   "execution_count": 63,
   "metadata": {},
   "outputs": [],
   "source": [
    "# perfume_vis_data = pyLDAvis.prepare(**df_copy.description)"
   ]
  },
  {
   "cell_type": "code",
   "execution_count": null,
   "metadata": {},
   "outputs": [],
   "source": []
  }
 ],
 "metadata": {
  "kernelspec": {
   "display_name": "Python 3",
   "language": "python",
   "name": "python3"
  },
  "language_info": {
   "codemirror_mode": {
    "name": "ipython",
    "version": 3
   },
   "file_extension": ".py",
   "mimetype": "text/x-python",
   "name": "python",
   "nbconvert_exporter": "python",
   "pygments_lexer": "ipython3",
   "version": "3.7.3"
  }
 },
 "nbformat": 4,
 "nbformat_minor": 2
}
